{
 "cells": [
  {
   "cell_type": "markdown",
   "metadata": {},
   "source": [
    "# This is Jeopardy!"
   ]
  },
  {
   "cell_type": "markdown",
   "metadata": {},
   "source": [
    "#### Overview"
   ]
  },
  {
   "cell_type": "markdown",
   "metadata": {},
   "source": [
    "This project is slightly different than others you have encountered thus far. Instead of a step-by-step tutorial, this project contains a series of open-ended requirements which describe the project you'll be building. There are many possible ways to correctly fulfill all of these requirements, and you should expect to use the internet, Codecademy, and/or other resources when you encounter a problem that you cannot easily solve."
   ]
  },
  {
   "cell_type": "markdown",
   "metadata": {},
   "source": [
    "#### Project Goals"
   ]
  },
  {
   "cell_type": "markdown",
   "metadata": {},
   "source": [
    "You will work to write several functions that investigate a dataset of _Jeopardy!_ questions and answers. Filter the dataset for topics that you're interested in, compute the average difficulty of those questions, and train to become the next Jeopardy champion!"
   ]
  },
  {
   "cell_type": "markdown",
   "metadata": {},
   "source": [
    "## Prerequisites"
   ]
  },
  {
   "cell_type": "markdown",
   "metadata": {},
   "source": [
    "In order to complete this project, you should have completed the Pandas lessons in the <a href=\"https://www.codecademy.com/learn/paths/analyze-data-with-python\">Analyze Data with Python Skill Path</a>. You can also find those lessons in the <a href=\"https://www.codecademy.com/learn/data-processing-pandas\">Data Analysis with Pandas course</a> or the <a href=\"https://www.codecademy.com/learn/paths/data-science/\">Data Scientist Career Path</a>.\n",
    "\n",
    "Finally, the <a href=\"https://www.codecademy.com/learn/practical-data-cleaning\">Practical Data Cleaning</a> course may also be helpful."
   ]
  },
  {
   "cell_type": "markdown",
   "metadata": {},
   "source": [
    "## Project Requirements"
   ]
  },
  {
   "cell_type": "markdown",
   "metadata": {},
   "source": [
    "1. We've provided a csv file containing data about the game show _Jeopardy!_ in a file named `jeopardy.csv`. Load the data into a DataFrame and investigate its contents. Try to print out specific columns.\n",
    "\n",
    "   Note that in order to make this project as \"real-world\" as possible, we haven't modified the data at all - we're giving it to you exactly how we found it. As a result, this data isn't as \"clean\" as the datasets you normally find on Codecademy. More specifically, there's something odd about the column names. After you figure out the problem with the column names, you may want to rename them to make your life easier for the rest of the project.\n",
    "   \n",
    "   In order to display the full contents of a column, we've added this line of code for you:\n",
    "   \n",
    "   ```py\n",
    "   pd.set_option('display.max_colwidth', None)\n",
    "   ```"
   ]
  },
  {
   "cell_type": "code",
   "execution_count": 1,
   "metadata": {},
   "outputs": [],
   "source": [
    "import pandas as pd\n",
    "import numpy as np\n",
    "import random\n",
    "pd.set_option('display.max_colwidth', None)\n",
    "questions = pd.read_csv('jeopardy.csv')"
   ]
  },
  {
   "cell_type": "code",
   "execution_count": 2,
   "metadata": {},
   "outputs": [],
   "source": [
    "#print(questions.head())\n",
    "#print(questions.columns)"
   ]
  },
  {
   "cell_type": "code",
   "execution_count": 3,
   "metadata": {},
   "outputs": [],
   "source": [
    "#fix formatting of column names\n",
    "questions = questions.rename(columns = lambda x: x.strip().replace(' ','_'))\n",
    "#print(questions.head())\n",
    "\n",
    "#print(questions[questions.Category.str.contains('EPITAPH')])\n"
   ]
  },
  {
   "cell_type": "markdown",
   "metadata": {},
   "source": [
    "2. Write a function that filters the dataset for questions that contains all of the words in a list of words. For example, when the list `[\"King\", \"England\"]` was passed to our function, the function returned a DataFrame of 49 rows. Every row had the strings `\"King\"` and `\"England\"` somewhere in its `\" Question\"`.\n",
    "\n",
    "   Test your function by printing out the column containing the question of each row of the dataset."
   ]
  },
  {
   "cell_type": "code",
   "execution_count": 4,
   "metadata": {},
   "outputs": [],
   "source": [
    "#function to search questions \n",
    "def topic_filter(words):\n",
    "    filtered_rows = questions\n",
    "    for word in words: \n",
    "        filtered_rows = filtered_rows[filtered_rows.Question.str.lower().str.contains(word.lower())]\n",
    "    return filtered_rows"
   ]
  },
  {
   "cell_type": "code",
   "execution_count": 5,
   "metadata": {},
   "outputs": [],
   "source": [
    "#Add a year column.\n",
    "questions['Year'] = questions.apply(lambda row: int(row['Air_Date'][0:4]),axis=1)\n",
    "#print(questions.head())\n",
    "#print(np.sort(questions.Year.unique()))"
   ]
  },
  {
   "cell_type": "code",
   "execution_count": 6,
   "metadata": {},
   "outputs": [
    {
     "data": {
      "text/html": [
       "<div>\n",
       "<style scoped>\n",
       "    .dataframe tbody tr th:only-of-type {\n",
       "        vertical-align: middle;\n",
       "    }\n",
       "\n",
       "    .dataframe tbody tr th {\n",
       "        vertical-align: top;\n",
       "    }\n",
       "\n",
       "    .dataframe thead th {\n",
       "        text-align: right;\n",
       "    }\n",
       "</style>\n",
       "<table border=\"1\" class=\"dataframe\">\n",
       "  <thead>\n",
       "    <tr style=\"text-align: right;\">\n",
       "      <th></th>\n",
       "      <th>Show_Number</th>\n",
       "      <th>Air_Date</th>\n",
       "      <th>Round</th>\n",
       "      <th>Category</th>\n",
       "      <th>Value</th>\n",
       "      <th>Question</th>\n",
       "      <th>Answer</th>\n",
       "      <th>Year</th>\n",
       "    </tr>\n",
       "  </thead>\n",
       "  <tbody>\n",
       "    <tr>\n",
       "      <th>98481</th>\n",
       "      <td>5190</td>\n",
       "      <td>2007-03-16</td>\n",
       "      <td>Double Jeopardy!</td>\n",
       "      <td>FIGHTIN' WORDS</td>\n",
       "      <td>$2000</td>\n",
       "      <td>In Cockney rhyming slang, a wife is \"trouble and\" this type of discord</td>\n",
       "      <td>strife</td>\n",
       "      <td>2007</td>\n",
       "    </tr>\n",
       "    <tr>\n",
       "      <th>137544</th>\n",
       "      <td>3235</td>\n",
       "      <td>1998-10-02</td>\n",
       "      <td>Double Jeopardy!</td>\n",
       "      <td>INAUGURAL ADDRESSES</td>\n",
       "      <td>$600</td>\n",
       "      <td>President heard here: \"We find ourselves rich in goods but ragged in spirit, reaching with magnificent precision for the moon, but falling into raucous discord on Earth...\"</td>\n",
       "      <td>Richard M. Nixon</td>\n",
       "      <td>1998</td>\n",
       "    </tr>\n",
       "  </tbody>\n",
       "</table>\n",
       "</div>"
      ],
      "text/plain": [
       "        Show_Number    Air_Date             Round             Category  Value  \\\n",
       "98481          5190  2007-03-16  Double Jeopardy!       FIGHTIN' WORDS  $2000   \n",
       "137544         3235  1998-10-02  Double Jeopardy!  INAUGURAL ADDRESSES   $600   \n",
       "\n",
       "                                                                                                                                                                            Question  \\\n",
       "98481                                                                                                         In Cockney rhyming slang, a wife is \"trouble and\" this type of discord   \n",
       "137544  President heard here: \"We find ourselves rich in goods but ragged in spirit, reaching with magnificent precision for the moon, but falling into raucous discord on Earth...\"   \n",
       "\n",
       "                  Answer  Year  \n",
       "98481             strife  2007  \n",
       "137544  Richard M. Nixon  1998  "
      ]
     },
     "execution_count": 6,
     "metadata": {},
     "output_type": "execute_result"
    }
   ],
   "source": [
    "#testing out the function! \n",
    "topic_filter(['Discord'])"
   ]
  },
  {
   "cell_type": "markdown",
   "metadata": {},
   "source": [
    "3. Test your original function with a few different sets of words to try to find some ways your function breaks. Edit your function so it is more robust.\n",
    "\n",
    "   For example, think about capitalization. We probably want to find questions that contain the word `\"King\"` or `\"king\"`.\n",
    "   \n",
    "   You may also want to check to make sure you don't find rows that contain substrings of your given words. For example, our function found a question that didn't contain the word `\"king\"`, however it did contain the word `\"viking\"` &mdash; it found the `\"king\"` inside `\"viking\"`. Note that this also comes with some drawbacks &mdash; you would no longer find questions that contained words like `\"England's\"`."
   ]
  },
  {
   "cell_type": "code",
   "execution_count": 7,
   "metadata": {},
   "outputs": [],
   "source": [
    "#Convert monetary value to floats for calculation purposes\n",
    "questions['Value'] = questions.Value.apply(lambda x: float(x.strip('$').replace(',','')) if x!='None' else x)\n"
   ]
  },
  {
   "cell_type": "markdown",
   "metadata": {},
   "source": [
    "4. We may want to eventually compute aggregate statistics, like `.mean()` on the `\" Value\"` column. But right now, the values in that column are strings. Convert the`\" Value\"` column to floats. If you'd like to, you can create a new column with float values.\n",
    "\n",
    "   Now that you can filter the dataset of question, use your new column that contains the float values of each question to find the \"difficulty\" of certain topics. For example, what is the average value of questions that contain the word `\"King\"`?\n",
    "   \n",
    "   Make sure to use the dataset that contains the float values as the dataset you use in your filtering function."
   ]
  },
  {
   "cell_type": "code",
   "execution_count": 8,
   "metadata": {},
   "outputs": [],
   "source": [
    "def topic_difficulty(topic):\n",
    "    return topic_filter(topic).Value.mean()"
   ]
  },
  {
   "cell_type": "code",
   "execution_count": 9,
   "metadata": {
    "scrolled": true
   },
   "outputs": [
    {
     "name": "stdout",
     "output_type": "stream",
     "text": [
      "707.3529411764706\n"
     ]
    },
    {
     "data": {
      "text/html": [
       "<div>\n",
       "<style scoped>\n",
       "    .dataframe tbody tr th:only-of-type {\n",
       "        vertical-align: middle;\n",
       "    }\n",
       "\n",
       "    .dataframe tbody tr th {\n",
       "        vertical-align: top;\n",
       "    }\n",
       "\n",
       "    .dataframe thead th {\n",
       "        text-align: right;\n",
       "    }\n",
       "</style>\n",
       "<table border=\"1\" class=\"dataframe\">\n",
       "  <thead>\n",
       "    <tr style=\"text-align: right;\">\n",
       "      <th></th>\n",
       "      <th>Show_Number</th>\n",
       "      <th>Air_Date</th>\n",
       "      <th>Round</th>\n",
       "      <th>Category</th>\n",
       "      <th>Value</th>\n",
       "      <th>Question</th>\n",
       "      <th>Answer</th>\n",
       "      <th>Year</th>\n",
       "    </tr>\n",
       "  </thead>\n",
       "  <tbody>\n",
       "    <tr>\n",
       "      <th>453</th>\n",
       "      <td>6037</td>\n",
       "      <td>2010-12-07</td>\n",
       "      <td>Double Jeopardy!</td>\n",
       "      <td>PLAY HEROINES</td>\n",
       "      <td>800.0</td>\n",
       "      <td>Emily Webb of Grover's Corners</td>\n",
       "      <td>Our Town</td>\n",
       "      <td>2010</td>\n",
       "    </tr>\n",
       "    <tr>\n",
       "      <th>2932</th>\n",
       "      <td>3697</td>\n",
       "      <td>2000-10-03</td>\n",
       "      <td>Jeopardy!</td>\n",
       "      <td>REQUIRED READING</td>\n",
       "      <td>300.0</td>\n",
       "      <td>Last name of sisters Emily &amp; Charlotte, a 1-2 punch with \"Wuthering Heights\" &amp; \"Jane Eyre\"</td>\n",
       "      <td>Bronte</td>\n",
       "      <td>2000</td>\n",
       "    </tr>\n",
       "    <tr>\n",
       "      <th>5416</th>\n",
       "      <td>2047</td>\n",
       "      <td>1993-06-29</td>\n",
       "      <td>Jeopardy!</td>\n",
       "      <td>ETIQUETTE</td>\n",
       "      <td>500.0</td>\n",
       "      <td>In 1922 Emily Post wrote, \"A gentleman takes off\" this \"when a lady enters the elevator\"</td>\n",
       "      <td>his hat</td>\n",
       "      <td>1993</td>\n",
       "    </tr>\n",
       "    <tr>\n",
       "      <th>10918</th>\n",
       "      <td>3588</td>\n",
       "      <td>2000-03-22</td>\n",
       "      <td>Double Jeopardy!</td>\n",
       "      <td>THE BRONTE BEAT</td>\n",
       "      <td>200.0</td>\n",
       "      <td>This Emily Bronte novel opens with Mr. Lockwood telling of a visit with his landlord, Mr. Heathcliff</td>\n",
       "      <td>\"Wuthering Heights\"</td>\n",
       "      <td>2000</td>\n",
       "    </tr>\n",
       "    <tr>\n",
       "      <th>10936</th>\n",
       "      <td>3588</td>\n",
       "      <td>2000-03-22</td>\n",
       "      <td>Double Jeopardy!</td>\n",
       "      <td>THE BRONTE BEAT</td>\n",
       "      <td>800.0</td>\n",
       "      <td>The book of poetry Charlotte, Emily &amp; Anne published under this pseudonymous last name sold only 2 copies</td>\n",
       "      <td>Bell (Currer, Ellis &amp; Acton)</td>\n",
       "      <td>2000</td>\n",
       "    </tr>\n",
       "    <tr>\n",
       "      <th>...</th>\n",
       "      <td>...</td>\n",
       "      <td>...</td>\n",
       "      <td>...</td>\n",
       "      <td>...</td>\n",
       "      <td>...</td>\n",
       "      <td>...</td>\n",
       "      <td>...</td>\n",
       "      <td>...</td>\n",
       "    </tr>\n",
       "    <tr>\n",
       "      <th>206604</th>\n",
       "      <td>3578</td>\n",
       "      <td>2000-03-08</td>\n",
       "      <td>Double Jeopardy!</td>\n",
       "      <td>WOMEN WRITERS</td>\n",
       "      <td>200.0</td>\n",
       "      <td>Last name of Anne, sister of Emily &amp; Charlotte, who wrote \"The Tenant of Wildfell Hall\"</td>\n",
       "      <td>Bronte</td>\n",
       "      <td>2000</td>\n",
       "    </tr>\n",
       "    <tr>\n",
       "      <th>207077</th>\n",
       "      <td>3592</td>\n",
       "      <td>2000-03-28</td>\n",
       "      <td>Double Jeopardy!</td>\n",
       "      <td>QUOTATIONS</td>\n",
       "      <td>600.0</td>\n",
       "      <td>An Emily Dickinson poem begins, \"Because I could not stop for\" this \"he kindly stopped for me\"</td>\n",
       "      <td>Death</td>\n",
       "      <td>2000</td>\n",
       "    </tr>\n",
       "    <tr>\n",
       "      <th>207831</th>\n",
       "      <td>4182</td>\n",
       "      <td>2002-11-05</td>\n",
       "      <td>Jeopardy!</td>\n",
       "      <td>PRESIDENTIAL PETS</td>\n",
       "      <td>1000.0</td>\n",
       "      <td>He kept some of his favorite racing fillies at the White House, including Emily &amp; Lady Nashville</td>\n",
       "      <td>Andrew Jackson</td>\n",
       "      <td>2002</td>\n",
       "    </tr>\n",
       "    <tr>\n",
       "      <th>209743</th>\n",
       "      <td>3274</td>\n",
       "      <td>1998-11-26</td>\n",
       "      <td>Double Jeopardy!</td>\n",
       "      <td>GIVING THANKS</td>\n",
       "      <td>200.0</td>\n",
       "      <td>Emily Post says these must be acknowledged within 3 months -- &amp; guests don't have a year to give them, either</td>\n",
       "      <td>wedding presents</td>\n",
       "      <td>1998</td>\n",
       "    </tr>\n",
       "    <tr>\n",
       "      <th>215065</th>\n",
       "      <td>5305</td>\n",
       "      <td>2007-10-05</td>\n",
       "      <td>Double Jeopardy!</td>\n",
       "      <td>LE CINEMA</td>\n",
       "      <td>1200.0</td>\n",
       "      <td>This 2001 title role was meant for Emily Watson, but she didn't speak French; Audrey Tautou got the part</td>\n",
       "      <td>Amelie</td>\n",
       "      <td>2007</td>\n",
       "    </tr>\n",
       "  </tbody>\n",
       "</table>\n",
       "<p>81 rows × 8 columns</p>\n",
       "</div>"
      ],
      "text/plain": [
       "        Show_Number    Air_Date             Round           Category   Value  \\\n",
       "453            6037  2010-12-07  Double Jeopardy!      PLAY HEROINES   800.0   \n",
       "2932           3697  2000-10-03         Jeopardy!   REQUIRED READING   300.0   \n",
       "5416           2047  1993-06-29         Jeopardy!          ETIQUETTE   500.0   \n",
       "10918          3588  2000-03-22  Double Jeopardy!    THE BRONTE BEAT   200.0   \n",
       "10936          3588  2000-03-22  Double Jeopardy!    THE BRONTE BEAT   800.0   \n",
       "...             ...         ...               ...                ...     ...   \n",
       "206604         3578  2000-03-08  Double Jeopardy!      WOMEN WRITERS   200.0   \n",
       "207077         3592  2000-03-28  Double Jeopardy!         QUOTATIONS   600.0   \n",
       "207831         4182  2002-11-05         Jeopardy!  PRESIDENTIAL PETS  1000.0   \n",
       "209743         3274  1998-11-26  Double Jeopardy!      GIVING THANKS   200.0   \n",
       "215065         5305  2007-10-05  Double Jeopardy!          LE CINEMA  1200.0   \n",
       "\n",
       "                                                                                                             Question  \\\n",
       "453                                                                                    Emily Webb of Grover's Corners   \n",
       "2932                       Last name of sisters Emily & Charlotte, a 1-2 punch with \"Wuthering Heights\" & \"Jane Eyre\"   \n",
       "5416                         In 1922 Emily Post wrote, \"A gentleman takes off\" this \"when a lady enters the elevator\"   \n",
       "10918            This Emily Bronte novel opens with Mr. Lockwood telling of a visit with his landlord, Mr. Heathcliff   \n",
       "10936       The book of poetry Charlotte, Emily & Anne published under this pseudonymous last name sold only 2 copies   \n",
       "...                                                                                                               ...   \n",
       "206604                        Last name of Anne, sister of Emily & Charlotte, who wrote \"The Tenant of Wildfell Hall\"   \n",
       "207077                 An Emily Dickinson poem begins, \"Because I could not stop for\" this \"he kindly stopped for me\"   \n",
       "207831               He kept some of his favorite racing fillies at the White House, including Emily & Lady Nashville   \n",
       "209743  Emily Post says these must be acknowledged within 3 months -- & guests don't have a year to give them, either   \n",
       "215065       This 2001 title role was meant for Emily Watson, but she didn't speak French; Audrey Tautou got the part   \n",
       "\n",
       "                              Answer  Year  \n",
       "453                         Our Town  2010  \n",
       "2932                          Bronte  2000  \n",
       "5416                         his hat  1993  \n",
       "10918            \"Wuthering Heights\"  2000  \n",
       "10936   Bell (Currer, Ellis & Acton)  2000  \n",
       "...                              ...   ...  \n",
       "206604                        Bronte  2000  \n",
       "207077                         Death  2000  \n",
       "207831                Andrew Jackson  2002  \n",
       "209743              wedding presents  1998  \n",
       "215065                        Amelie  2007  \n",
       "\n",
       "[81 rows x 8 columns]"
      ]
     },
     "execution_count": 9,
     "metadata": {},
     "output_type": "execute_result"
    }
   ],
   "source": [
    "print(topic_difficulty(['Harry','Potter']))\n",
    "topic_filter(['Emily'])"
   ]
  },
  {
   "cell_type": "markdown",
   "metadata": {},
   "source": [
    "5. Write a function that returns the count of unique answers to all of the questions in a dataset. For example, after filtering the entire dataset to only questions containing the word `\"King\"`, we could then find all of the unique answers to those questions. The answer \"Henry VIII\" appeared 55 times and was the most common answer."
   ]
  },
  {
   "cell_type": "code",
   "execution_count": 10,
   "metadata": {},
   "outputs": [],
   "source": [
    "def unique(filtered):\n",
    "     return filtered.Answer.value_counts()"
   ]
  },
  {
   "cell_type": "code",
   "execution_count": 11,
   "metadata": {},
   "outputs": [
    {
     "name": "stdout",
     "output_type": "stream",
     "text": [
      "Amherst                 4\n",
      "Wuthering Heights       4\n",
      "Americanization         3\n",
      "Our Town                3\n",
      "Bronte                  2\n",
      "                       ..\n",
      "The Bob Newhart Show    1\n",
      "Charlotte Brontë        1\n",
      "the prom                1\n",
      "Handshake               1\n",
      "Amelie                  1\n",
      "Name: Answer, Length: 69, dtype: int64\n"
     ]
    }
   ],
   "source": [
    "print(unique(topic_filter(['Emily'])))"
   ]
  },
  {
   "cell_type": "markdown",
   "metadata": {},
   "source": [
    "6. Explore from here! This is an incredibly rich dataset, and there are so many interesting things to discover. There are a few columns that we haven't even started looking at yet. Here are some ideas on ways to continue working with this data:\n",
    "\n",
    " * Investigate the ways in which questions change over time by filtering by the date. How many questions from the 90s use the word `\"Computer\"` compared to questions from the 2000s?\n",
    " * Is there a connection between the round and the category? Are you more likely to find certain categories, like `\"Literature\"` in Single Jeopardy or Double Jeopardy?\n",
    " * Build a system to quiz yourself. Grab random questions, and use the <a href=\"https://docs.python.org/3/library/functions.html#input\">input</a> function to get a response from the user. Check to see if that response was right or wrong."
   ]
  },
  {
   "cell_type": "code",
   "execution_count": 12,
   "metadata": {},
   "outputs": [],
   "source": [
    "#filters for questions mentioning a certain topic between two years (inclusive)\n",
    "def filter_by_date(topic,beginning,end):\n",
    "    filtered = questions[(questions['Year'] >= beginning)\n",
    "                                    & (questions['Year'] <= end)]\n",
    "    \n",
    "    for word in topic:\n",
    "        filtered = filtered[filtered['Question'].str.lower().str.contains(word.lower())]\n",
    "        \n",
    "    return filtered"
   ]
  },
  {
   "cell_type": "code",
   "execution_count": 13,
   "metadata": {},
   "outputs": [],
   "source": [
    "#finds the percentage of questions from a year range that refer to a topic\n",
    "def topic_percentage(topic,beginning,end):\n",
    "    total = float(len(filter_by_date([\"\"],beginning,end)))\n",
    "    return len(filter_by_date(topic,beginning,end))/total"
   ]
  },
  {
   "cell_type": "code",
   "execution_count": 14,
   "metadata": {},
   "outputs": [
    {
     "name": "stdout",
     "output_type": "stream",
     "text": [
      "0.0004053220548065909\n",
      "0.00039563349804605497\n"
     ]
    }
   ],
   "source": [
    "print(topic_percentage([\"Emily\"],1990,1999))\n",
    "print(topic_percentage([\"Emily\"],2000,2009))"
   ]
  },
  {
   "cell_type": "code",
   "execution_count": 15,
   "metadata": {},
   "outputs": [
    {
     "name": "stdout",
     "output_type": "stream",
     "text": [
      "['Jeopardy!' 'Double Jeopardy!' 'Final Jeopardy!' 'Tiebreaker']\n",
      "107384\n",
      "105912\n",
      "3631\n",
      "3\n"
     ]
    }
   ],
   "source": [
    "#Didn't end up using this \n",
    "print(questions.Round.unique())\n",
    "single_jeop = questions[questions['Round'] == 'Jeopardy!']\n",
    "double_jeop = questions[questions['Round'] == 'Double Jeopardy!']\n",
    "final_jeop = questions[questions['Round'] == 'Final Jeopardy!']\n",
    "tiebreaker = questions[questions['Round'] == 'Tiebreaker']\n",
    "print(len(single_jeop))\n",
    "print(len(double_jeop))\n",
    "print(len(final_jeop))\n",
    "print(len(tiebreaker))"
   ]
  },
  {
   "cell_type": "code",
   "execution_count": 16,
   "metadata": {},
   "outputs": [],
   "source": [
    "#checks whether a given category is more likely to be found in a particular round\n",
    "def cats_by_round(category):\n",
    "    single_count = len(questions[(questions['Round'] == 'Jeopardy!') & \n",
    "                                 (questions['Category'].str.lower().str.contains(category.lower()))])\n",
    "    double_count = len(questions[(questions['Round'] == 'Double Jeopardy!') & \n",
    "                                 (questions['Category'].str.lower().str.contains(category.lower()))])                             \n",
    "    print('\"{}\" has appeared in the Single Jeopardy category {} times.'.format(category, single_count))\n",
    "    print('\"{}\" has appeared in the Double Jeopardy category {} times.'.format(category, double_count))"
   ]
  },
  {
   "cell_type": "code",
   "execution_count": 17,
   "metadata": {},
   "outputs": [
    {
     "name": "stdout",
     "output_type": "stream",
     "text": [
      "\"Harry\" has appeared in the Single Jeopardy category 30 times.\n",
      "\"Harry\" has appeared in the Double Jeopardy category 30 times.\n"
     ]
    },
    {
     "data": {
      "text/plain": [
       "216930"
      ]
     },
     "execution_count": 17,
     "metadata": {},
     "output_type": "execute_result"
    }
   ],
   "source": [
    "cats_by_round('Harry')\n",
    "len(questions)"
   ]
  },
  {
   "cell_type": "code",
   "execution_count": 18,
   "metadata": {},
   "outputs": [
    {
     "data": {
      "text/html": [
       "<div>\n",
       "<style scoped>\n",
       "    .dataframe tbody tr th:only-of-type {\n",
       "        vertical-align: middle;\n",
       "    }\n",
       "\n",
       "    .dataframe tbody tr th {\n",
       "        vertical-align: top;\n",
       "    }\n",
       "\n",
       "    .dataframe thead th {\n",
       "        text-align: right;\n",
       "    }\n",
       "</style>\n",
       "<table border=\"1\" class=\"dataframe\">\n",
       "  <thead>\n",
       "    <tr style=\"text-align: right;\">\n",
       "      <th></th>\n",
       "      <th>Show_Number</th>\n",
       "      <th>Air_Date</th>\n",
       "      <th>Round</th>\n",
       "      <th>Category</th>\n",
       "      <th>Value</th>\n",
       "      <th>Question</th>\n",
       "      <th>Answer</th>\n",
       "      <th>Year</th>\n",
       "    </tr>\n",
       "  </thead>\n",
       "  <tbody>\n",
       "    <tr>\n",
       "      <th>0</th>\n",
       "      <td>4680</td>\n",
       "      <td>2004-12-31</td>\n",
       "      <td>Jeopardy!</td>\n",
       "      <td>HISTORY</td>\n",
       "      <td>200.0</td>\n",
       "      <td>For the last 8 years of his life, Galileo was under house arrest for espousing this man's theory</td>\n",
       "      <td>Copernicus</td>\n",
       "      <td>2004</td>\n",
       "    </tr>\n",
       "    <tr>\n",
       "      <th>1</th>\n",
       "      <td>4680</td>\n",
       "      <td>2004-12-31</td>\n",
       "      <td>Jeopardy!</td>\n",
       "      <td>ESPN's TOP 10 ALL-TIME ATHLETES</td>\n",
       "      <td>200.0</td>\n",
       "      <td>No. 2: 1912 Olympian; football star at Carlisle Indian School; 6 MLB seasons with the Reds, Giants &amp; Braves</td>\n",
       "      <td>Jim Thorpe</td>\n",
       "      <td>2004</td>\n",
       "    </tr>\n",
       "    <tr>\n",
       "      <th>2</th>\n",
       "      <td>4680</td>\n",
       "      <td>2004-12-31</td>\n",
       "      <td>Jeopardy!</td>\n",
       "      <td>EVERYBODY TALKS ABOUT IT...</td>\n",
       "      <td>200.0</td>\n",
       "      <td>The city of Yuma in this state has a record average of 4,055 hours of sunshine each year</td>\n",
       "      <td>Arizona</td>\n",
       "      <td>2004</td>\n",
       "    </tr>\n",
       "    <tr>\n",
       "      <th>3</th>\n",
       "      <td>4680</td>\n",
       "      <td>2004-12-31</td>\n",
       "      <td>Jeopardy!</td>\n",
       "      <td>THE COMPANY LINE</td>\n",
       "      <td>200.0</td>\n",
       "      <td>In 1963, live on \"The Art Linkletter Show\", this company served its billionth burger</td>\n",
       "      <td>McDonald's</td>\n",
       "      <td>2004</td>\n",
       "    </tr>\n",
       "    <tr>\n",
       "      <th>4</th>\n",
       "      <td>4680</td>\n",
       "      <td>2004-12-31</td>\n",
       "      <td>Jeopardy!</td>\n",
       "      <td>EPITAPHS &amp; TRIBUTES</td>\n",
       "      <td>200.0</td>\n",
       "      <td>Signer of the Dec. of Indep., framer of the Constitution of Mass., second President of the United States</td>\n",
       "      <td>John Adams</td>\n",
       "      <td>2004</td>\n",
       "    </tr>\n",
       "  </tbody>\n",
       "</table>\n",
       "</div>"
      ],
      "text/plain": [
       "   Show_Number    Air_Date      Round                         Category  Value  \\\n",
       "0         4680  2004-12-31  Jeopardy!                          HISTORY  200.0   \n",
       "1         4680  2004-12-31  Jeopardy!  ESPN's TOP 10 ALL-TIME ATHLETES  200.0   \n",
       "2         4680  2004-12-31  Jeopardy!      EVERYBODY TALKS ABOUT IT...  200.0   \n",
       "3         4680  2004-12-31  Jeopardy!                 THE COMPANY LINE  200.0   \n",
       "4         4680  2004-12-31  Jeopardy!              EPITAPHS & TRIBUTES  200.0   \n",
       "\n",
       "                                                                                                      Question  \\\n",
       "0             For the last 8 years of his life, Galileo was under house arrest for espousing this man's theory   \n",
       "1  No. 2: 1912 Olympian; football star at Carlisle Indian School; 6 MLB seasons with the Reds, Giants & Braves   \n",
       "2                     The city of Yuma in this state has a record average of 4,055 hours of sunshine each year   \n",
       "3                         In 1963, live on \"The Art Linkletter Show\", this company served its billionth burger   \n",
       "4     Signer of the Dec. of Indep., framer of the Constitution of Mass., second President of the United States   \n",
       "\n",
       "       Answer  Year  \n",
       "0  Copernicus  2004  \n",
       "1  Jim Thorpe  2004  \n",
       "2     Arizona  2004  \n",
       "3  McDonald's  2004  \n",
       "4  John Adams  2004  "
      ]
     },
     "execution_count": 18,
     "metadata": {},
     "output_type": "execute_result"
    }
   ],
   "source": [
    "questions.head()"
   ]
  },
  {
   "cell_type": "code",
   "execution_count": 19,
   "metadata": {},
   "outputs": [],
   "source": [
    "#asks a question\n",
    "def quiz_question():\n",
    "    selection = []\n",
    "    #presents 5 question options\n",
    "    for n in range(5):\n",
    "        selection.append(random.randint(0,len(questions)))\n",
    "    print(\"Choose a question!\")\n",
    "    for n in range(5):\n",
    "        print(str(n+1)+\": \" + questions.iloc[selection[n]]['Category'] + \" for $\" \n",
    "              + str(questions.iloc[selection[n]]['Value']))\n",
    "    s = int(input())\n",
    "    \n",
    "    #presents question and requests answer\n",
    "    print(questions.iloc[selection[s-1]]['Question'])\n",
    "    answer = input()\n",
    "    \n",
    "    #asks user to verify their own answer, so they don't have to get it perfectly\n",
    "    print(\"You said {}. The correct answer was {}! Were you right? Y/N\"\n",
    "          .format(answer,questions.iloc[selection[s-1]]['Answer']))\n",
    "    answer = input()\n",
    "    \n",
    "    #in Jeopardy, if you get it wrong, you lose money. \n",
    "    if answer.lower() == 'y':\n",
    "        return questions.iloc[selection[s-1]]['Value']\n",
    "    else:\n",
    "        return -1*questions.iloc[selection[s-1]]['Value']\n",
    "    "
   ]
  },
  {
   "cell_type": "code",
   "execution_count": 20,
   "metadata": {},
   "outputs": [],
   "source": [
    "def quiz(num):\n",
    "    score = 0\n",
    "    for n in range(num):\n",
    "        print(\"Current score: $\" + str(score))\n",
    "        print(\"Question {}:\".format(str(n+1)))\n",
    "        score += quiz_question()\n",
    "    print(\"Final score: $\" + str(score))\n",
    "    return score"
   ]
  },
  {
   "cell_type": "code",
   "execution_count": 21,
   "metadata": {},
   "outputs": [
    {
     "name": "stdout",
     "output_type": "stream",
     "text": [
      "Current score: $0\n",
      "Question 1:\n",
      "Choose a question!\n",
      "1: OUR NATION'S CAPITAL for $600.0\n",
      "2: TV WOMEN for $400.0\n",
      "3: SKY HIGH for $600.0\n",
      "4: IT'S TYLER TIME! for $1600.0\n",
      "5: \"GG\" for $1200.0\n",
      "5\n",
      "What Harry Potter would consider me as a non-practitioner of magic\n",
      "Muggle\n",
      "You said Muggle. The correct answer was a muggle! Were you right? Y/N\n",
      "y\n",
      "Current score: $1200.0\n",
      "Question 2:\n",
      "Choose a question!\n",
      "1: 19th CENTURY AMERICANS for $400.0\n",
      "2: HAUTE DOGS for $600.0\n",
      "3: I GOT 3 As, MOM! for $1200.0\n",
      "4: UPDATED LITERATURE? for $600.0\n",
      "5: HOMOPHONES for $100.0\n",
      "3\n",
      "Sing out this 2-word musical term, from the Italian from \"in the manner of a choir\"\n",
      "a capella\n",
      "You said a capella. The correct answer was a cappella! Were you right? Y/N\n",
      "y\n",
      "Current score: $2400.0\n",
      "Question 3:\n",
      "Choose a question!\n",
      "1: THE MARSHALL PLAN for $200.0\n",
      "2: NEIL DOWN for $800.0\n",
      "3: \"SUP\" for $800.0\n",
      "4: PITCHING THE PERFECT GAME for $1200.0\n",
      "5: CAMELS for $1000.0\n",
      "3\n",
      "For an 80-degree angle, a 100-degree angle is this\n",
      "supplementary\n",
      "You said supplementary. The correct answer was supplementary! Were you right? Y/N\n",
      "y\n",
      "Current score: $3200.0\n",
      "Question 4:\n",
      "Choose a question!\n",
      "1: APOSTLES for $400.0\n",
      "2: ADD A LETTER for $1600.0\n",
      "3: HETERONYMS for $2000.0\n",
      "4: FAMOUS AMERICANS for $None\n",
      "5: \"F\" STOP for $400.0\n",
      "3\n",
      "An exterior door, or to magically captivate someone\n",
      "entrance\n",
      "You said entrance. The correct answer was entrance & entrance! Were you right? Y/N\n",
      "y\n",
      "Current score: $5200.0\n",
      "Question 5:\n",
      "Choose a question!\n",
      "1: WORLD CUP '98 for $100.0\n",
      "2: YOU-PHEMISMS for $300.0\n",
      "3: DOUBLE-LETTER WORDS for $800.0\n",
      "4: THE MUSEUM OF FLIGHT for $200.0\n",
      "5: ANAGRAMS for $600.0\n",
      "3\n",
      "The Sorting Hat placed Harry Potter in this House at Hogwarts\n",
      "Gryffindor\n",
      "You said Gryffindor. The correct answer was Gryffindor! Were you right? Y/N\n",
      "y\n",
      "Final score: $6000.0\n"
     ]
    }
   ],
   "source": [
    "score = quiz(5)"
   ]
  },
  {
   "cell_type": "markdown",
   "metadata": {},
   "source": [
    "## Solution"
   ]
  },
  {
   "cell_type": "markdown",
   "metadata": {},
   "source": [
    "7. Compare your program to our <a href=\"https://content.codecademy.com/PRO/independent-practice-projects/jeopardy/jeopardy_solution.zip\">sample solution code</a> - remember, that your program might look different from ours (and probably will) and that's okay!"
   ]
  },
  {
   "cell_type": "markdown",
   "metadata": {},
   "source": [
    "8. Great work! Visit <a href=\"https://discuss.codecademy.com/t/this-is-jeopardy-challenge-project-python-pandas/462365\">our forums</a> to compare your project to our sample solution code. You can also learn how to host your own solution on GitHub so you can share it with other learners! Your solution might look different from ours, and that's okay! There are multiple ways to solve these projects, and you'll learn more by seeing others' code."
   ]
  },
  {
   "cell_type": "code",
   "execution_count": null,
   "metadata": {},
   "outputs": [],
   "source": []
  },
  {
   "cell_type": "code",
   "execution_count": null,
   "metadata": {},
   "outputs": [],
   "source": []
  }
 ],
 "metadata": {
  "kernelspec": {
   "display_name": "Python 3 (ipykernel)",
   "language": "python",
   "name": "python3"
  },
  "language_info": {
   "codemirror_mode": {
    "name": "ipython",
    "version": 3
   },
   "file_extension": ".py",
   "mimetype": "text/x-python",
   "name": "python",
   "nbconvert_exporter": "python",
   "pygments_lexer": "ipython3",
   "version": "3.9.12"
  }
 },
 "nbformat": 4,
 "nbformat_minor": 2
}
